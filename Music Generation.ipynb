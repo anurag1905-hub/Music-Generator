{
 "cells": [
  {
   "cell_type": "code",
   "execution_count": 1,
   "id": "c8a115c2",
   "metadata": {},
   "outputs": [
    {
     "name": "stdout",
     "output_type": "stream",
     "text": [
      "Requirement already satisfied: music21 in /home/workspace/.local/lib/python3.8/site-packages (6.7.1)\n",
      "Requirement already satisfied: webcolors in /home/workspace/.local/lib/python3.8/site-packages (from music21) (1.11.1)\n",
      "Requirement already satisfied: joblib in /home/workspace/.local/lib/python3.8/site-packages (from music21) (1.1.0)\n",
      "Requirement already satisfied: chardet in /usr/lib/python3/dist-packages (from music21) (3.0.4)\n",
      "Requirement already satisfied: more-itertools in /home/workspace/.local/lib/python3.8/site-packages (from music21) (8.12.0)\n"
     ]
    }
   ],
   "source": [
    "!pip install music21"
   ]
  },
  {
   "cell_type": "code",
   "execution_count": 2,
   "id": "3fea41b9",
   "metadata": {},
   "outputs": [
    {
     "name": "stdout",
     "output_type": "stream",
     "text": [
      "Requirement already up-to-date: music21==6.7.1 in /home/workspace/.local/lib/python3.8/site-packages (6.7.1)\n",
      "Requirement already satisfied, skipping upgrade: more-itertools in /home/workspace/.local/lib/python3.8/site-packages (from music21==6.7.1) (8.12.0)\n",
      "Requirement already satisfied, skipping upgrade: chardet in /usr/lib/python3/dist-packages (from music21==6.7.1) (3.0.4)\n",
      "Requirement already satisfied, skipping upgrade: joblib in /home/workspace/.local/lib/python3.8/site-packages (from music21==6.7.1) (1.1.0)\n",
      "Requirement already satisfied, skipping upgrade: webcolors in /home/workspace/.local/lib/python3.8/site-packages (from music21==6.7.1) (1.11.1)\n",
      "Note: you may need to restart the kernel to use updated packages.\n"
     ]
    }
   ],
   "source": [
    "pip install --upgrade music21==6.7.1"
   ]
  },
  {
   "cell_type": "code",
   "execution_count": 6,
   "id": "2a80309c",
   "metadata": {},
   "outputs": [],
   "source": [
    "from music21 import converter,instrument,note,chord,stream\n",
    "import glob\n",
    "import pickle\n",
    "import numpy as np\n",
    "import tensorflow as tf\n",
    "from keras.utils import np_utils"
   ]
  },
  {
   "cell_type": "markdown",
   "id": "18938407",
   "metadata": {},
   "source": [
    "## Read a Midi File"
   ]
  },
  {
   "cell_type": "code",
   "execution_count": 7,
   "id": "f08b5130",
   "metadata": {},
   "outputs": [],
   "source": [
    "midi = converter.parse(\"midi_songs/EyesOnMePiano.mid\")"
   ]
  },
  {
   "cell_type": "code",
   "execution_count": 8,
   "id": "9b403300",
   "metadata": {},
   "outputs": [
    {
     "data": {
      "text/plain": [
       "<music21.stream.Score 0x7fbb69e0a160>"
      ]
     },
     "execution_count": 8,
     "metadata": {},
     "output_type": "execute_result"
    }
   ],
   "source": [
    "midi"
   ]
  },
  {
   "cell_type": "code",
   "execution_count": 9,
   "id": "aa13b488",
   "metadata": {},
   "outputs": [
    {
     "data": {
      "text/html": [
       "\n",
       "                <div id='midiPlayerDiv68490'></div>\n",
       "                <link rel=\"stylesheet\" href=\"//cuthbertLab.github.io/music21j/css/m21.css\"\n",
       "                    type=\"text/css\" />\n",
       "                <script>\n",
       "                require.config({\n",
       "                    paths: {'music21': '//cuthbertLab.github.io/music21j/src/music21'}\n",
       "                });\n",
       "                require(['music21'], function() {\n",
       "                               mp = new music21.miditools.MidiPlayer();\n",
       "                               mp.addPlayer('#midiPlayerDiv68490');\n",
       "                               mp.base64Load('data:audio/midi;base64,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');\n",
       "                        });\n",
       "                </script>"
      ],
      "text/plain": [
       "<IPython.core.display.HTML object>"
      ]
     },
     "metadata": {},
     "output_type": "display_data"
    }
   ],
   "source": [
    "midi.show('midi')"
   ]
  },
  {
   "cell_type": "code",
   "execution_count": 11,
   "id": "72f55fd5",
   "metadata": {},
   "outputs": [],
   "source": [
    "elements_to_parse = midi.flat.notes"
   ]
  },
  {
   "cell_type": "code",
   "execution_count": 12,
   "id": "45da8bcb",
   "metadata": {},
   "outputs": [
    {
     "data": {
      "text/plain": [
       "1425"
      ]
     },
     "execution_count": 12,
     "metadata": {},
     "output_type": "execute_result"
    }
   ],
   "source": [
    "len(elements_to_parse)"
   ]
  },
  {
   "cell_type": "code",
   "execution_count": 14,
   "id": "610c9fef",
   "metadata": {},
   "outputs": [
    {
     "data": {
      "text/plain": [
       "<music21.note.Note F#>"
      ]
     },
     "execution_count": 14,
     "metadata": {},
     "output_type": "execute_result"
    }
   ],
   "source": [
    "elements_to_parse[6]"
   ]
  },
  {
   "cell_type": "code",
   "execution_count": 15,
   "id": "3e611cee",
   "metadata": {},
   "outputs": [
    {
     "data": {
      "text/plain": [
       "<music21.pitch.Pitch F#6>"
      ]
     },
     "execution_count": 15,
     "metadata": {},
     "output_type": "execute_result"
    }
   ],
   "source": [
    "elements_to_parse[6].pitch"
   ]
  },
  {
   "cell_type": "code",
   "execution_count": 16,
   "id": "0fa90516",
   "metadata": {},
   "outputs": [
    {
     "data": {
      "text/plain": [
       "'A6'"
      ]
     },
     "execution_count": 16,
     "metadata": {},
     "output_type": "execute_result"
    }
   ],
   "source": [
    "str(elements_to_parse[3].pitch)"
   ]
  },
  {
   "cell_type": "code",
   "execution_count": 17,
   "id": "7248c1aa",
   "metadata": {},
   "outputs": [
    {
     "data": {
      "text/plain": [
       "<music21.chord.Chord F#4 C#5>"
      ]
     },
     "execution_count": 17,
     "metadata": {},
     "output_type": "execute_result"
    }
   ],
   "source": [
    "elements_to_parse[68]"
   ]
  },
  {
   "cell_type": "code",
   "execution_count": 18,
   "id": "34eced08",
   "metadata": {},
   "outputs": [
    {
     "data": {
      "text/plain": [
       "[1, 6]"
      ]
     },
     "execution_count": 18,
     "metadata": {},
     "output_type": "execute_result"
    }
   ],
   "source": [
    "elements_to_parse[68].normalOrder"
   ]
  },
  {
   "cell_type": "code",
   "execution_count": 19,
   "id": "aee0dad0",
   "metadata": {},
   "outputs": [
    {
     "data": {
      "text/plain": [
       "'1+6'"
      ]
     },
     "execution_count": 19,
     "metadata": {},
     "output_type": "execute_result"
    }
   ],
   "source": [
    "\"+\".join(str(n) for n in elements_to_parse[68].normalOrder)"
   ]
  },
  {
   "cell_type": "code",
   "execution_count": 20,
   "id": "b683640b",
   "metadata": {},
   "outputs": [
    {
     "data": {
      "text/plain": [
       "True"
      ]
     },
     "execution_count": 20,
     "metadata": {},
     "output_type": "execute_result"
    }
   ],
   "source": [
    "isinstance(elements_to_parse[3],note.Note)"
   ]
  },
  {
   "cell_type": "code",
   "execution_count": 21,
   "id": "19af026d",
   "metadata": {},
   "outputs": [
    {
     "data": {
      "text/plain": [
       "False"
      ]
     },
     "execution_count": 21,
     "metadata": {},
     "output_type": "execute_result"
    }
   ],
   "source": [
    "isinstance(elements_to_parse[68],note.Note)"
   ]
  },
  {
   "cell_type": "code",
   "execution_count": 22,
   "id": "54da858e",
   "metadata": {},
   "outputs": [
    {
     "data": {
      "text/plain": [
       "True"
      ]
     },
     "execution_count": 22,
     "metadata": {},
     "output_type": "execute_result"
    }
   ],
   "source": [
    "isinstance(elements_to_parse[68],chord.Chord)"
   ]
  },
  {
   "cell_type": "code",
   "execution_count": 23,
   "id": "e3a6524f",
   "metadata": {},
   "outputs": [],
   "source": [
    "notes_demo = []\n",
    "\n",
    "\n",
    "for ele in elements_to_parse:\n",
    "    # If the element is a Note,then store its pitch.\n",
    "    if isinstance(ele,note.Note):\n",
    "        notes_demo.append(str(ele.pitch))\n",
    "    \n",
    "    \n",
    "    # If the element is a Chord, split each note of chord and join them with '+'\n",
    "    elif isinstance(ele,chord.Chord):\n",
    "        notes_demo.append(\"+\".join(str(n) for n in ele.normalOrder))"
   ]
  },
  {
   "cell_type": "markdown",
   "id": "ac4ac9d7",
   "metadata": {},
   "source": [
    "## Preprocessing all Files"
   ]
  },
  {
   "cell_type": "code",
   "execution_count": 25,
   "id": "16fbf4ad",
   "metadata": {},
   "outputs": [],
   "source": [
    "notes = []\n",
    "for file in glob.glob(\"midi_songs/*.mid\"):\n",
    "    midi = converter.parse(file) # Converts file into stream.Score Object\n",
    "    \n",
    "    #print(\"parsing %s\"%file)\n",
    "    \n",
    "    elements_to_parse = midi.flat.notes\n",
    "    \n",
    "    for ele in elements_to_parse:\n",
    "        # If the element is a Note,then store its pitch.\n",
    "        if isinstance(ele,note.Note):\n",
    "            notes.append(str(ele.pitch))\n",
    "\n",
    "\n",
    "        # If the element is a Chord, split each note of chord and join them with '+'\n",
    "        elif isinstance(ele,chord.Chord):\n",
    "            notes.append(\"+\".join(str(n) for n in ele.normalOrder))\n",
    "    "
   ]
  },
  {
   "cell_type": "code",
   "execution_count": 26,
   "id": "7292c372",
   "metadata": {},
   "outputs": [
    {
     "data": {
      "text/plain": [
       "60866"
      ]
     },
     "execution_count": 26,
     "metadata": {},
     "output_type": "execute_result"
    }
   ],
   "source": [
    "len(notes)"
   ]
  },
  {
   "cell_type": "code",
   "execution_count": 27,
   "id": "dede9419",
   "metadata": {},
   "outputs": [],
   "source": [
    "with open(\"notes\",\"wb\") as filepath:\n",
    "    pickle.dump(notes,filepath)"
   ]
  },
  {
   "cell_type": "code",
   "execution_count": 28,
   "id": "f59661ee",
   "metadata": {},
   "outputs": [],
   "source": [
    "notes = None"
   ]
  },
  {
   "cell_type": "code",
   "execution_count": 29,
   "id": "fd298665",
   "metadata": {},
   "outputs": [
    {
     "name": "stdout",
     "output_type": "stream",
     "text": [
      "None\n"
     ]
    }
   ],
   "source": [
    "print(notes)"
   ]
  },
  {
   "cell_type": "code",
   "execution_count": 30,
   "id": "648486f2",
   "metadata": {},
   "outputs": [],
   "source": [
    "with open(\"notes\",\"rb\") as filepath:\n",
    "    notes = pickle.load(filepath)"
   ]
  },
  {
   "cell_type": "code",
   "execution_count": 31,
   "id": "e41a783d",
   "metadata": {},
   "outputs": [
    {
     "name": "stdout",
     "output_type": "stream",
     "text": [
      "60866\n"
     ]
    }
   ],
   "source": [
    "print(len(notes))"
   ]
  },
  {
   "cell_type": "code",
   "execution_count": 32,
   "id": "67671b3f",
   "metadata": {},
   "outputs": [
    {
     "data": {
      "text/plain": [
       "359"
      ]
     },
     "execution_count": 32,
     "metadata": {},
     "output_type": "execute_result"
    }
   ],
   "source": [
    "len(set(notes))"
   ]
  },
  {
   "cell_type": "code",
   "execution_count": 33,
   "id": "3aa80569",
   "metadata": {},
   "outputs": [],
   "source": [
    "n_vocab = len(set(notes))"
   ]
  },
  {
   "cell_type": "code",
   "execution_count": 34,
   "id": "60f36ce4",
   "metadata": {},
   "outputs": [
    {
     "name": "stdout",
     "output_type": "stream",
     "text": [
      "Total notes-  60866\n",
      "Unique notes-  359\n"
     ]
    }
   ],
   "source": [
    "print(\"Total notes- \",len(notes))\n",
    "print(\"Unique notes- \",n_vocab)"
   ]
  },
  {
   "cell_type": "markdown",
   "id": "bcd230d2",
   "metadata": {},
   "source": [
    "### Prepare Sequential Data For LSTM"
   ]
  },
  {
   "cell_type": "code",
   "execution_count": 35,
   "id": "80a0eae5",
   "metadata": {},
   "outputs": [],
   "source": [
    "# How many elements LSTM input should consider.\n",
    "sequence_length = 100"
   ]
  },
  {
   "cell_type": "code",
   "execution_count": 36,
   "id": "8daafdf7",
   "metadata": {},
   "outputs": [],
   "source": [
    "pitchnames = sorted(set(notes))"
   ]
  },
  {
   "cell_type": "code",
   "execution_count": 37,
   "id": "b080ec7d",
   "metadata": {},
   "outputs": [],
   "source": [
    "# Mapping between elements to integer values.\n",
    "ele_to_int = dict((ele,num) for num,ele in enumerate(pitchnames))"
   ]
  },
  {
   "cell_type": "code",
   "execution_count": 38,
   "id": "32ed5bf6",
   "metadata": {},
   "outputs": [],
   "source": [
    "network_input = []\n",
    "network_output = []"
   ]
  },
  {
   "cell_type": "code",
   "execution_count": 39,
   "id": "d4a060b4",
   "metadata": {},
   "outputs": [],
   "source": [
    "for i in range(len(notes)-sequence_length):\n",
    "    seq_in = notes[i:i+sequence_length] # Contains 100 elements.\n",
    "    seq_out = notes[i+sequence_length]\n",
    "    \n",
    "    # seq_in and seq_out contain strings. But LSTM accepts only numerical data.\n",
    "    # So, we convert the strings to numbers using the mapping 'ele_to_int' which we created above.\n",
    "    \n",
    "    network_input.append([ele_to_int[ch] for ch in seq_in])\n",
    "    network_output.append(ele_to_int[seq_out]) # seq_out is a single element."
   ]
  },
  {
   "cell_type": "code",
   "execution_count": 40,
   "id": "4a972a63",
   "metadata": {},
   "outputs": [
    {
     "name": "stdout",
     "output_type": "stream",
     "text": [
      "60766\n"
     ]
    }
   ],
   "source": [
    "# No of examples\n",
    "n_patterns = len(network_input)\n",
    "print(n_patterns)"
   ]
  },
  {
   "cell_type": "code",
   "execution_count": 41,
   "id": "9237c8d9",
   "metadata": {},
   "outputs": [
    {
     "name": "stdout",
     "output_type": "stream",
     "text": [
      "(60766, 100, 1)\n"
     ]
    }
   ],
   "source": [
    "# For feeding these data in LSTM, we need to convert them into numpy.\n",
    "network_input = np.reshape(network_input,(n_patterns,sequence_length,1)) # 1 is used because LSTM receives data in 3 dimensions.\n",
    "print(network_input.shape)"
   ]
  },
  {
   "cell_type": "code",
   "execution_count": 42,
   "id": "bb2b456b",
   "metadata": {},
   "outputs": [],
   "source": [
    "#network_input"
   ]
  },
  {
   "cell_type": "code",
   "execution_count": 43,
   "id": "da03aa3e",
   "metadata": {},
   "outputs": [],
   "source": [
    "# Normalise the data\n",
    "normalised_network_input = network_input/float(n_vocab)"
   ]
  },
  {
   "cell_type": "code",
   "execution_count": 44,
   "id": "acf0a179",
   "metadata": {},
   "outputs": [],
   "source": [
    "#normalised_network_input"
   ]
  },
  {
   "cell_type": "code",
   "execution_count": 47,
   "id": "30adab5a",
   "metadata": {},
   "outputs": [
    {
     "name": "stdout",
     "output_type": "stream",
     "text": [
      "(60766, 359)\n",
      "[[0. 0. 0. ... 0. 0. 0.]\n",
      " [0. 0. 0. ... 0. 0. 0.]\n",
      " [0. 0. 0. ... 0. 0. 0.]\n",
      " ...\n",
      " [0. 0. 0. ... 0. 0. 0.]\n",
      " [0. 0. 0. ... 0. 0. 0.]\n",
      " [0. 0. 0. ... 0. 0. 0.]]\n"
     ]
    }
   ],
   "source": [
    "# One Hot Encoding of network_ouput\n",
    "network_output = np_utils.to_categorical(network_output)\n",
    "print(network_output.shape)\n",
    "print(network_output)"
   ]
  },
  {
   "cell_type": "markdown",
   "id": "d40f8015",
   "metadata": {},
   "source": [
    "## Create Model"
   ]
  },
  {
   "cell_type": "code",
   "execution_count": 48,
   "id": "d26436c7",
   "metadata": {},
   "outputs": [],
   "source": [
    "from keras.models import Sequential,load_model\n",
    "from keras.layers import *\n",
    "from keras.callbacks import ModelCheckpoint,EarlyStopping"
   ]
  },
  {
   "cell_type": "code",
   "execution_count": 49,
   "id": "00c4f8ef",
   "metadata": {},
   "outputs": [
    {
     "name": "stderr",
     "output_type": "stream",
     "text": [
      "2022-03-19 14:10:36.798138: W tensorflow/stream_executor/platform/default/dso_loader.cc:64] Could not load dynamic library 'libcuda.so.1'; dlerror: libcuda.so.1: cannot open shared object file: No such file or directory\n",
      "2022-03-19 14:10:36.798203: W tensorflow/stream_executor/cuda/cuda_driver.cc:269] failed call to cuInit: UNKNOWN ERROR (303)\n",
      "2022-03-19 14:10:36.798239: I tensorflow/stream_executor/cuda/cuda_diagnostics.cc:156] kernel driver does not appear to be running on this host (anurag1905): /proc/driver/nvidia/version does not exist\n",
      "2022-03-19 14:10:36.815863: I tensorflow/core/platform/cpu_feature_guard.cc:151] This TensorFlow binary is optimized with oneAPI Deep Neural Network Library (oneDNN) to use the following CPU instructions in performance-critical operations:  AVX2 AVX512F FMA\n",
      "To enable them in other operations, rebuild TensorFlow with the appropriate compiler flags.\n"
     ]
    },
    {
     "name": "stdout",
     "output_type": "stream",
     "text": [
      "Model: \"sequential\"\n",
      "_________________________________________________________________\n",
      " Layer (type)                Output Shape              Param #   \n",
      "=================================================================\n",
      " lstm (LSTM)                 (None, 100, 512)          1052672   \n",
      "                                                                 \n",
      " dropout (Dropout)           (None, 100, 512)          0         \n",
      "                                                                 \n",
      " lstm_1 (LSTM)               (None, 100, 512)          2099200   \n",
      "                                                                 \n",
      " dropout_1 (Dropout)         (None, 100, 512)          0         \n",
      "                                                                 \n",
      " lstm_2 (LSTM)               (None, 512)               2099200   \n",
      "                                                                 \n",
      " dense (Dense)               (None, 256)               131328    \n",
      "                                                                 \n",
      " dropout_2 (Dropout)         (None, 256)               0         \n",
      "                                                                 \n",
      " dense_1 (Dense)             (None, 359)               92263     \n",
      "                                                                 \n",
      "=================================================================\n",
      "Total params: 5,474,663\n",
      "Trainable params: 5,474,663\n",
      "Non-trainable params: 0\n",
      "_________________________________________________________________\n"
     ]
    }
   ],
   "source": [
    "model = Sequential()\n",
    "model.add(LSTM(units=512,\n",
    "              input_shape=(normalised_network_input.shape[1],normalised_network_input.shape[2]),  # shape-> (100,1)\n",
    "              return_sequences=True)) \n",
    "model.add(Dropout(0.3))\n",
    "model.add(LSTM(512,return_sequences=True))\n",
    "model.add(Dropout(0.3))\n",
    "model.add(LSTM(512))\n",
    "model.add(Dense(256))\n",
    "model.add(Dropout(0.3))\n",
    "model.add(Dense(n_vocab,activation='softmax'))\n",
    "\n",
    "model.summary()"
   ]
  },
  {
   "cell_type": "code",
   "execution_count": 50,
   "id": "daa0ffc4",
   "metadata": {},
   "outputs": [],
   "source": [
    "model.compile(loss='categorical_crossentropy',optimizer='adam')"
   ]
  },
  {
   "cell_type": "code",
   "execution_count": null,
   "id": "cc306618",
   "metadata": {},
   "outputs": [],
   "source": [
    "checkpoint = tf.keras.callbacks.ModelCheckpoint(\n",
    "    \"new_weights.hdf5\",\n",
    "    monitor=\"val_loss\",\n",
    "    verbose=0,\n",
    "    save_best_only=True,\n",
    "    save_weights_only=False,\n",
    "    mode=\"min\",\n",
    ")\n",
    "\n",
    "model_hist = model.fit(normalised_network_input,network_output,epochs=100,batch_size=64,callbacks=[checkpoint])"
   ]
  },
  {
   "cell_type": "code",
   "execution_count": 67,
   "id": "397737b9",
   "metadata": {},
   "outputs": [],
   "source": [
    "model = load_model(\"new_weights.hdf5\")"
   ]
  },
  {
   "cell_type": "markdown",
   "id": "6403501e",
   "metadata": {},
   "source": [
    "## Predictions"
   ]
  },
  {
   "cell_type": "code",
   "execution_count": 68,
   "id": "a6a5197d",
   "metadata": {},
   "outputs": [],
   "source": [
    "sequence_length = 100\n",
    "network_input = []\n",
    "for i in range(len(notes)-sequence_length):\n",
    "    seq_in = notes[i:i+sequence_length] # Contains 100 elements.\n",
    "    # seq_in contain strings. But LSTM accepts only numerical data.\n",
    "    # So, we convert the strings to numbers using the mapping 'ele_to_int'.\n",
    "    network_input.append([ele_to_int[ch] for ch in seq_in])"
   ]
  },
  {
   "cell_type": "code",
   "execution_count": 87,
   "id": "75f74157",
   "metadata": {},
   "outputs": [],
   "source": [
    "start = np.random.randint(len(network_input)-1) # Choose a random data point from network_input.    "
   ]
  },
  {
   "cell_type": "code",
   "execution_count": 88,
   "id": "54a20143",
   "metadata": {},
   "outputs": [
    {
     "data": {
      "text/plain": [
       "33794"
      ]
     },
     "execution_count": 88,
     "metadata": {},
     "output_type": "execute_result"
    }
   ],
   "source": [
    "start"
   ]
  },
  {
   "cell_type": "code",
   "execution_count": 89,
   "id": "9daf699b",
   "metadata": {},
   "outputs": [],
   "source": [
    "# Mapping of integer to element.\n",
    "int_to_ele = dict((num,ele) for num,ele in enumerate(pitchnames))\n",
    "\n",
    "# Initial pattern\n",
    "pattern = network_input[start]\n",
    "prediction_output = []\n",
    "\n",
    "# Generate 200 elements\n",
    "for note_index in range(200):\n",
    "    prediction_input = np.reshape(pattern,(1,len(pattern),1))\n",
    "    prediction_input = prediction_input/float(n_vocab)\n",
    "    \n",
    "    prediction = model.predict(prediction_input,verbose=0)\n",
    "    \n",
    "    idx = np.argmax(prediction)\n",
    "    result = int_to_ele[idx]\n",
    "    prediction_output.append(result)\n",
    "    \n",
    "    pattern.append(idx)\n",
    "    pattern = pattern[1:]"
   ]
  },
  {
   "cell_type": "code",
   "execution_count": 90,
   "id": "c0dddb06",
   "metadata": {},
   "outputs": [
    {
     "name": "stdout",
     "output_type": "stream",
     "text": [
      "200\n"
     ]
    }
   ],
   "source": [
    "print(len(prediction_output))"
   ]
  },
  {
   "cell_type": "markdown",
   "id": "2b8bb139",
   "metadata": {},
   "source": [
    "## Create Midi File"
   ]
  },
  {
   "cell_type": "code",
   "execution_count": 92,
   "id": "d1bb55a2",
   "metadata": {},
   "outputs": [
    {
     "data": {
      "text/plain": [
       "'G2'"
      ]
     },
     "execution_count": 92,
     "metadata": {},
     "output_type": "execute_result"
    }
   ],
   "source": [
    "prediction_output[4] # This is a Note"
   ]
  },
  {
   "cell_type": "code",
   "execution_count": 93,
   "id": "acc9d9f8",
   "metadata": {},
   "outputs": [],
   "source": [
    "offset = 0\n",
    "new_note = note.Note(prediction_output[4]) # Creates a note object\n",
    "new_note.offset =  offset\n",
    "new_note.storedInstrument = instrument.Piano()"
   ]
  },
  {
   "cell_type": "code",
   "execution_count": 94,
   "id": "c4a71ceb",
   "metadata": {},
   "outputs": [],
   "source": [
    "offset = 0 # Time\n",
    "output_notes = []\n",
    "\n",
    "for pattern in prediction_output:\n",
    "    \n",
    "    # if the pattern is a chord.\n",
    "    \n",
    "    if ('+' in pattern) or pattern.isdigit():\n",
    "        notes_in_chord = pattern.split('+')\n",
    "        temp_notes = []\n",
    "        for current_note in notes_in_chord:\n",
    "            new_note = note.Note(int(current_note)) # Create Note object for each note in the chord.\n",
    "            new_note.storedInstrument = instrument.Piano()\n",
    "            temp_notes.append(new_note)\n",
    "        \n",
    "        new_chord = chord.Chord(temp_notes) # creates the chord object from the list of notes.\n",
    "        new_chord.offset = offset\n",
    "        output_notes.append(new_chord)\n",
    "        \n",
    "    \n",
    "    # if the pattern is a note.\n",
    "    else:\n",
    "        new_note = note.Note(pattern) # Creates a note object\n",
    "        new_note.offset =  offset\n",
    "        new_note.storedInstrument = instrument.Piano()\n",
    "        output_notes.append(new_note)\n",
    "        \n",
    "    offset+=0.5"
   ]
  },
  {
   "cell_type": "code",
   "execution_count": 96,
   "id": "ae3f65e6",
   "metadata": {},
   "outputs": [
    {
     "data": {
      "text/plain": [
       "'generated_music.mid'"
      ]
     },
     "execution_count": 96,
     "metadata": {},
     "output_type": "execute_result"
    }
   ],
   "source": [
    "# create a stream object from the generated notes\n",
    "midi_stream = stream.Stream(output_notes)\n",
    "midi_stream.write('midi',fp='generated_music.mid')"
   ]
  },
  {
   "cell_type": "code",
   "execution_count": 97,
   "id": "285a3c75",
   "metadata": {},
   "outputs": [
    {
     "data": {
      "text/html": [
       "\n",
       "                <div id='midiPlayerDiv548953'></div>\n",
       "                <link rel=\"stylesheet\" href=\"//cuthbertLab.github.io/music21j/css/m21.css\"\n",
       "                    type=\"text/css\" />\n",
       "                <script>\n",
       "                require.config({\n",
       "                    paths: {'music21': '//cuthbertLab.github.io/music21j/src/music21'}\n",
       "                });\n",
       "                require(['music21'], function() {\n",
       "                               mp = new music21.miditools.MidiPlayer();\n",
       "                               mp.addPlayer('#midiPlayerDiv548953');\n",
       "                               mp.base64Load('data:audio/midi;base64,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');\n",
       "                        });\n",
       "                </script>"
      ],
      "text/plain": [
       "<IPython.core.display.HTML object>"
      ]
     },
     "metadata": {},
     "output_type": "display_data"
    }
   ],
   "source": [
    "midi_stream.show('midi')"
   ]
  },
  {
   "cell_type": "code",
   "execution_count": null,
   "id": "e8d3ccbe",
   "metadata": {},
   "outputs": [],
   "source": []
  }
 ],
 "metadata": {
  "kernelspec": {
   "display_name": "Python 3 (ipykernel)",
   "language": "python",
   "name": "python3"
  },
  "language_info": {
   "codemirror_mode": {
    "name": "ipython",
    "version": 3
   },
   "file_extension": ".py",
   "mimetype": "text/x-python",
   "name": "python",
   "nbconvert_exporter": "python",
   "pygments_lexer": "ipython3",
   "version": "3.9.7"
  }
 },
 "nbformat": 4,
 "nbformat_minor": 5
}
